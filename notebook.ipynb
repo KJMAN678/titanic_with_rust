{
 "cells": [
  {
   "cell_type": "code",
   "execution_count": 2,
   "id": "1031f1c2-fd72-46f5-be3d-b5e29853ffab",
   "metadata": {},
   "outputs": [],
   "source": [
    ":dep polars = \"0.19.1\""
   ]
  },
  {
   "cell_type": "code",
   "execution_count": 3,
   "id": "9f790d6f",
   "metadata": {},
   "outputs": [],
   "source": [
    "use polars::prelude::*;\n",
    "use std::fs::File;"
   ]
  },
  {
   "cell_type": "markdown",
   "id": "ff74f9e0",
   "metadata": {},
   "source": [
    "## CSV読み込み"
   ]
  },
  {
   "cell_type": "code",
   "execution_count": 4,
   "id": "814fd889-49a1-437e-9ada-47ea03510eab",
   "metadata": {},
   "outputs": [],
   "source": [
    "let df = CsvReader::from_path(\"train.csv\")?\n",
    "            .infer_schema(None)\n",
    "            .has_header(true)\n",
    "            .finish()?;"
   ]
  },
  {
   "cell_type": "code",
   "execution_count": 5,
   "id": "db89187f",
   "metadata": {},
   "outputs": [
    {
     "name": "stdout",
     "output_type": "stream",
     "text": [
      "shape: (891, 12)\n",
      "+-------------+----------+--------+-------------------------------------+-----+------------------+---------+-------+----------+\n",
      "| PassengerId | Survived | Pclass | Name                                | ... | Ticket           | Fare    | Cabin | Embarked |\n",
      "| ---         | ---      | ---    | ---                                 |     | ---              | ---     | ---   | ---      |\n",
      "| i64         | i64      | i64    | str                                 |     | str              | f64     | str   | str      |\n",
      "+=============+==========+========+=====================================+=====+==================+=========+=======+==========+\n",
      "| 1           | 0        | 3      | Braund, Mr. Owen Harris             | ... | A/5 21171        | 7.25    |       | S        |\n",
      "+-------------+----------+--------+-------------------------------------+-----+------------------+---------+-------+----------+\n",
      "| 2           | 1        | 1      | Cumings, Mrs. John Bradley (Flor... | ... | PC 17599         | 71.2833 | C85   | C        |\n",
      "+-------------+----------+--------+-------------------------------------+-----+------------------+---------+-------+----------+\n",
      "| 3           | 1        | 3      | Heikkinen, Miss. Laina              | ... | STON/O2. 3101282 | 7.925   |       | S        |\n",
      "+-------------+----------+--------+-------------------------------------+-----+------------------+---------+-------+----------+\n",
      "| 4           | 1        | 1      | Futrelle, Mrs. Jacques Heath (Li... | ... | 113803           | 53.1    | C123  | S        |\n",
      "+-------------+----------+--------+-------------------------------------+-----+------------------+---------+-------+----------+\n",
      "| ...         | ...      | ...    | ...                                 | ... | ...              | ...     | ...   | ...      |\n",
      "+-------------+----------+--------+-------------------------------------+-----+------------------+---------+-------+----------+\n",
      "| 888         | 1        | 1      | Graham, Miss. Margaret Edith        | ... | 112053           | 30.0    | B42   | S        |\n",
      "+-------------+----------+--------+-------------------------------------+-----+------------------+---------+-------+----------+\n",
      "| 889         | 0        | 3      | Johnston, Miss. Catherine Helen ... | ... | W./C. 6607       | 23.45   |       | S        |\n",
      "+-------------+----------+--------+-------------------------------------+-----+------------------+---------+-------+----------+\n",
      "| 890         | 1        | 1      | Behr, Mr. Karl Howell               | ... | 111369           | 30.0    | C148  | C        |\n",
      "+-------------+----------+--------+-------------------------------------+-----+------------------+---------+-------+----------+\n",
      "| 891         | 0        | 3      | Dooley, Mr. Patrick                 | ... | 370376           | 7.75    |       | Q        |\n",
      "+-------------+----------+--------+-------------------------------------+-----+------------------+---------+-------+----------+\n",
      "\n"
     ]
    }
   ],
   "source": [
    "println!(\"{:?}\", df);"
   ]
  },
  {
   "cell_type": "code",
   "execution_count": 6,
   "id": "245c287d",
   "metadata": {},
   "outputs": [
    {
     "data": {
      "text/plain": [
       "12"
      ]
     },
     "execution_count": 6,
     "metadata": {},
     "output_type": "execute_result"
    }
   ],
   "source": [
    "df.width()"
   ]
  },
  {
   "cell_type": "code",
   "execution_count": 7,
   "id": "5c96a055",
   "metadata": {},
   "outputs": [
    {
     "data": {
      "text/plain": [
       "891"
      ]
     },
     "execution_count": 7,
     "metadata": {},
     "output_type": "execute_result"
    }
   ],
   "source": [
    "df.height()"
   ]
  },
  {
   "cell_type": "code",
   "execution_count": 8,
   "id": "acadd4c7",
   "metadata": {},
   "outputs": [
    {
     "data": {
      "text/plain": [
       "(891, 12)"
      ]
     },
     "execution_count": 8,
     "metadata": {},
     "output_type": "execute_result"
    }
   ],
   "source": [
    "df.shape()"
   ]
  },
  {
   "cell_type": "code",
   "execution_count": 9,
   "id": "ee256f96",
   "metadata": {},
   "outputs": [
    {
     "data": {
      "text/plain": [
       "[Field { name: \"PassengerId\", data_type: Int64 }, Field { name: \"Survived\", data_type: Int64 }, Field { name: \"Pclass\", data_type: Int64 }, Field { name: \"Name\", data_type: Utf8 }, Field { name: \"Sex\", data_type: Utf8 }, Field { name: \"Age\", data_type: Float64 }, Field { name: \"SibSp\", data_type: Int64 }, Field { name: \"Parch\", data_type: Int64 }, Field { name: \"Ticket\", data_type: Utf8 }, Field { name: \"Fare\", data_type: Float64 }, Field { name: \"Cabin\", data_type: Utf8 }, Field { name: \"Embarked\", data_type: Utf8 }]"
      ]
     },
     "execution_count": 9,
     "metadata": {},
     "output_type": "execute_result"
    }
   ],
   "source": [
    "df.fields()"
   ]
  },
  {
   "cell_type": "code",
   "execution_count": 10,
   "id": "88a320bc",
   "metadata": {},
   "outputs": [
    {
     "data": {
      "text/plain": [
       "Some([Int64(1), Int64(0), Int64(3), Utf8(\"Braund, Mr. Owen Harris\"), Utf8(\"male\"), Float64(22.0), Int64(1), Int64(0), Utf8(\"A/5 21171\"), Float64(7.25), Utf8(\"\"), Utf8(\"S\")])"
      ]
     },
     "execution_count": 10,
     "metadata": {},
     "output_type": "execute_result"
    }
   ],
   "source": [
    "df.get(0)"
   ]
  },
  {
   "cell_type": "code",
   "execution_count": 11,
   "id": "0267ac52",
   "metadata": {},
   "outputs": [
    {
     "data": {
      "text/plain": [
       "[shape: (891,)\n",
       "Series: 'PassengerId' [i64]\n",
       "[\n",
       "\t1\n",
       "\t2\n",
       "\t3\n",
       "\t4\n",
       "\t5\n",
       "\t6\n",
       "\t7\n",
       "\t8\n",
       "\t9\n",
       "\t10\n",
       "\t11\n",
       "\t12\n",
       "\t...\n",
       "\t880\n",
       "\t881\n",
       "\t882\n",
       "\t883\n",
       "\t884\n",
       "\t885\n",
       "\t886\n",
       "\t887\n",
       "\t888\n",
       "\t889\n",
       "\t890\n",
       "\t891\n",
       "], shape: (891,)\n",
       "Series: 'Survived' [i64]\n",
       "[\n",
       "\t0\n",
       "\t1\n",
       "\t1\n",
       "\t1\n",
       "\t0\n",
       "\t0\n",
       "\t0\n",
       "\t0\n",
       "\t1\n",
       "\t1\n",
       "\t1\n",
       "\t1\n",
       "\t...\n",
       "\t1\n",
       "\t1\n",
       "\t0\n",
       "\t0\n",
       "\t0\n",
       "\t0\n",
       "\t0\n",
       "\t0\n",
       "\t1\n",
       "\t0\n",
       "\t1\n",
       "\t0\n",
       "], shape: (891,)\n",
       "Series: 'Pclass' [i64]\n",
       "[\n",
       "\t3\n",
       "\t1\n",
       "\t3\n",
       "\t1\n",
       "\t3\n",
       "\t3\n",
       "\t1\n",
       "\t3\n",
       "\t3\n",
       "\t2\n",
       "\t3\n",
       "\t1\n",
       "\t...\n",
       "\t1\n",
       "\t2\n",
       "\t3\n",
       "\t3\n",
       "\t2\n",
       "\t3\n",
       "\t3\n",
       "\t2\n",
       "\t1\n",
       "\t3\n",
       "\t1\n",
       "\t3\n",
       "], shape: (891,)\n",
       "Series: 'Name' [str]\n",
       "[\n",
       "\t\"Braund, Mr. Ow...\n",
       "\t\"Cumings, Mrs. ...\n",
       "\t\"Heikkinen, Mis...\n",
       "\t\"Futrelle, Mrs....\n",
       "\t\"Allen, Mr. Wil...\n",
       "\t\"Moran, Mr. Jam...\n",
       "\t\"McCarthy, Mr. ...\n",
       "\t\"Palsson, Maste...\n",
       "\t\"Johnson, Mrs. ...\n",
       "\t\"Nasser, Mrs. N...\n",
       "\t\"Sandstrom, Mis...\n",
       "\t\"Bonnell, Miss....\n",
       "\t...\n",
       "\t\"Potter, Mrs. T...\n",
       "\t\"Shelley, Mrs. ...\n",
       "\t\"Markun, Mr. Jo...\n",
       "\t\"Dahlberg, Miss...\n",
       "\t\"Banfield, Mr. ...\n",
       "\t\"Sutehall, Mr. ...\n",
       "\t\"Rice, Mrs. Wil...\n",
       "\t\"Montvila, Rev....\n",
       "\t\"Graham, Miss. ...\n",
       "\t\"Johnston, Miss...\n",
       "\t\"Behr, Mr. Karl...\n",
       "\t\"Dooley, Mr. Pa...\n",
       "], shape: (891,)\n",
       "Series: 'Sex' [str]\n",
       "[\n",
       "\t\"male\"\n",
       "\t\"female\"\n",
       "\t\"female\"\n",
       "\t\"female\"\n",
       "\t\"male\"\n",
       "\t\"male\"\n",
       "\t\"male\"\n",
       "\t\"male\"\n",
       "\t\"female\"\n",
       "\t\"female\"\n",
       "\t\"female\"\n",
       "\t\"female\"\n",
       "\t...\n",
       "\t\"female\"\n",
       "\t\"female\"\n",
       "\t\"male\"\n",
       "\t\"female\"\n",
       "\t\"male\"\n",
       "\t\"male\"\n",
       "\t\"female\"\n",
       "\t\"male\"\n",
       "\t\"female\"\n",
       "\t\"female\"\n",
       "\t\"male\"\n",
       "\t\"male\"\n",
       "], shape: (891,)\n",
       "Series: 'Age' [f64]\n",
       "[\n",
       "\t22.0\n",
       "\t38.0\n",
       "\t26.0\n",
       "\t35.0\n",
       "\t35.0\n",
       "\tnull\n",
       "\t54.0\n",
       "\t2.0\n",
       "\t27.0\n",
       "\t14.0\n",
       "\t4.0\n",
       "\t58.0\n",
       "\t...\n",
       "\t56.0\n",
       "\t25.0\n",
       "\t33.0\n",
       "\t22.0\n",
       "\t28.0\n",
       "\t25.0\n",
       "\t39.0\n",
       "\t27.0\n",
       "\t19.0\n",
       "\tnull\n",
       "\t26.0\n",
       "\t32.0\n",
       "], shape: (891,)\n",
       "Series: 'SibSp' [i64]\n",
       "[\n",
       "\t1\n",
       "\t1\n",
       "\t0\n",
       "\t1\n",
       "\t0\n",
       "\t0\n",
       "\t0\n",
       "\t3\n",
       "\t0\n",
       "\t1\n",
       "\t1\n",
       "\t0\n",
       "\t...\n",
       "\t0\n",
       "\t0\n",
       "\t0\n",
       "\t0\n",
       "\t0\n",
       "\t0\n",
       "\t0\n",
       "\t0\n",
       "\t0\n",
       "\t1\n",
       "\t0\n",
       "\t0\n",
       "], shape: (891,)\n",
       "Series: 'Parch' [i64]\n",
       "[\n",
       "\t0\n",
       "\t0\n",
       "\t0\n",
       "\t0\n",
       "\t0\n",
       "\t0\n",
       "\t0\n",
       "\t1\n",
       "\t2\n",
       "\t0\n",
       "\t1\n",
       "\t0\n",
       "\t...\n",
       "\t1\n",
       "\t1\n",
       "\t0\n",
       "\t0\n",
       "\t0\n",
       "\t0\n",
       "\t5\n",
       "\t0\n",
       "\t0\n",
       "\t2\n",
       "\t0\n",
       "\t0\n",
       "], shape: (891,)\n",
       "Series: 'Ticket' [str]\n",
       "[\n",
       "\t\"A/5 21171\"\n",
       "\t\"PC 17599\"\n",
       "\t\"STON/O2. 31012...\n",
       "\t\"113803\"\n",
       "\t\"373450\"\n",
       "\t\"330877\"\n",
       "\t\"17463\"\n",
       "\t\"349909\"\n",
       "\t\"347742\"\n",
       "\t\"237736\"\n",
       "\t\"PP 9549\"\n",
       "\t\"113783\"\n",
       "\t...\n",
       "\t\"11767\"\n",
       "\t\"230433\"\n",
       "\t\"349257\"\n",
       "\t\"7552\"\n",
       "\t\"C.A./SOTON 340...\n",
       "\t\"SOTON/OQ 39207...\n",
       "\t\"382652\"\n",
       "\t\"211536\"\n",
       "\t\"112053\"\n",
       "\t\"W./C. 6607\"\n",
       "\t\"111369\"\n",
       "\t\"370376\"\n",
       "], shape: (891,)\n",
       "Series: 'Fare' [f64]\n",
       "[\n",
       "\t7.25\n",
       "\t71.2833\n",
       "\t7.925\n",
       "\t53.1\n",
       "\t8.05\n",
       "\t8.4583\n",
       "\t51.8625\n",
       "\t21.075\n",
       "\t11.1333\n",
       "\t30.0708\n",
       "\t16.7\n",
       "\t26.55\n",
       "\t...\n",
       "\t83.1583\n",
       "\t26.0\n",
       "\t7.8958\n",
       "\t10.5167\n",
       "\t10.5\n",
       "\t7.05\n",
       "\t29.125\n",
       "\t13.0\n",
       "\t30.0\n",
       "\t23.45\n",
       "\t30.0\n",
       "\t7.75\n",
       "], shape: (891,)\n",
       "Series: 'Cabin' [str]\n",
       "[\n",
       "\t\"\"\n",
       "\t\"C85\"\n",
       "\t\"\"\n",
       "\t\"C123\"\n",
       "\t\"\"\n",
       "\t\"\"\n",
       "\t\"E46\"\n",
       "\t\"\"\n",
       "\t\"\"\n",
       "\t\"\"\n",
       "\t\"G6\"\n",
       "\t\"C103\"\n",
       "\t...\n",
       "\t\"C50\"\n",
       "\t\"\"\n",
       "\t\"\"\n",
       "\t\"\"\n",
       "\t\"\"\n",
       "\t\"\"\n",
       "\t\"\"\n",
       "\t\"\"\n",
       "\t\"B42\"\n",
       "\t\"\"\n",
       "\t\"C148\"\n",
       "\t\"\"\n",
       "], shape: (891,)\n",
       "Series: 'Embarked' [str]\n",
       "[\n",
       "\t\"S\"\n",
       "\t\"C\"\n",
       "\t\"S\"\n",
       "\t\"S\"\n",
       "\t\"S\"\n",
       "\t\"Q\"\n",
       "\t\"S\"\n",
       "\t\"S\"\n",
       "\t\"S\"\n",
       "\t\"C\"\n",
       "\t\"S\"\n",
       "\t\"S\"\n",
       "\t...\n",
       "\t\"C\"\n",
       "\t\"S\"\n",
       "\t\"S\"\n",
       "\t\"S\"\n",
       "\t\"S\"\n",
       "\t\"S\"\n",
       "\t\"Q\"\n",
       "\t\"S\"\n",
       "\t\"S\"\n",
       "\t\"S\"\n",
       "\t\"C\"\n",
       "\t\"Q\"\n",
       "]]"
      ]
     },
     "execution_count": 11,
     "metadata": {},
     "output_type": "execute_result"
    }
   ],
   "source": [
    "df.get_columns()"
   ]
  },
  {
   "cell_type": "code",
   "execution_count": 12,
   "id": "cb97168b",
   "metadata": {},
   "outputs": [
    {
     "data": {
      "text/plain": [
       "shape: (891,)\n",
       "Series: 'PassengerId' [i64]\n",
       "[\n",
       "\t1\n",
       "\t2\n",
       "\t3\n",
       "\t4\n",
       "\t5\n",
       "\t6\n",
       "\t7\n",
       "\t8\n",
       "\t9\n",
       "\t10\n",
       "\t11\n",
       "\t12\n",
       "\t...\n",
       "\t880\n",
       "\t881\n",
       "\t882\n",
       "\t883\n",
       "\t884\n",
       "\t885\n",
       "\t886\n",
       "\t887\n",
       "\t888\n",
       "\t889\n",
       "\t890\n",
       "\t891\n",
       "]"
      ]
     },
     "execution_count": 12,
     "metadata": {},
     "output_type": "execute_result"
    }
   ],
   "source": [
    "df[\"PassengerId\"]"
   ]
  },
  {
   "cell_type": "markdown",
   "id": "ede21f83",
   "metadata": {},
   "source": [
    "## CSV書き出し"
   ]
  },
  {
   "cell_type": "code",
   "execution_count": 13,
   "id": "c42d1b21",
   "metadata": {},
   "outputs": [],
   "source": [
    "let mut file = File::create(\"output.csv\").expect(\"could not create file\");\n",
    "\n",
    "CsvWriter::new(&mut file)\n",
    "    .has_header(true)\n",
    "    .with_delimiter(b',')\n",
    "    .finish(&df);"
   ]
  },
  {
   "cell_type": "code",
   "execution_count": null,
   "id": "d352afff",
   "metadata": {},
   "outputs": [],
   "source": []
  }
 ],
 "metadata": {
  "kernelspec": {
   "display_name": "Rust",
   "language": "rust",
   "name": "rust"
  },
  "language_info": {
   "codemirror_mode": "rust",
   "file_extension": ".rs",
   "mimetype": "text/rust",
   "name": "Rust",
   "pygment_lexer": "rust",
   "version": ""
  }
 },
 "nbformat": 4,
 "nbformat_minor": 5
}
